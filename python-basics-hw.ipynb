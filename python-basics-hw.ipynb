{
 "cells": [
  {
   "cell_type": "markdown",
   "metadata": {},
   "source": [
    "**Задание 1**. Даны 2 строки: *long_phrase* и *short_phrase*. \n",
    "Напишите код, который проверяет действительно ли длинная фраза *long_phrase* длиннее короткой *short_phrase*. И выводит *True* или *False* в зависимости от результата сравнения."
   ]
  },
  {
   "cell_type": "code",
   "execution_count": 1,
   "metadata": {},
   "outputs": [],
   "source": [
    "long_phrase = 'Насколько проще было бы писать программы, если бы не заказчики'\n",
    "short_phrase = '640Кб должно хватить для любых задач. Билл Гейтс (по легенде)'"
   ]
  },
  {
   "cell_type": "code",
   "execution_count": 9,
   "metadata": {},
   "outputs": [
    {
     "data": {
      "text/plain": [
       "True"
      ]
     },
     "execution_count": 9,
     "metadata": {},
     "output_type": "execute_result"
    }
   ],
   "source": [
    "len(long_phrase)>len(short_phrase)"
   ]
  },
  {
   "cell_type": "markdown",
   "metadata": {},
   "source": [
    "**Задание 2**. Дано значение объема файла в байтах. Напишите перевод этого значения в мегабайты в формате: \"*Объем файла равен 213.68Mb*\""
   ]
  },
  {
   "cell_type": "code",
   "execution_count": 19,
   "metadata": {},
   "outputs": [
    {
     "name": "stdout",
     "output_type": "stream",
     "text": [
      "Введите объем файла: 789789\n",
      "Объем файла равен 789.789 Mb\n"
     ]
    }
   ],
   "source": [
    "volume = int(input('Введите объем файла: '))\n",
    "volume /= 1000\n",
    "print('Объем файла равен', volume,'Mb')"
   ]
  },
  {
   "cell_type": "markdown",
   "metadata": {},
   "source": [
    "**Задание 3**. Разработать приложение для определения знака зодиака по дате рождения. Пример:\n",
    "\n",
    "Введите месяц: март\n",
    "\n",
    "Введите число: 6\n",
    "\n",
    "Вывод:\n",
    "Рыбы"
   ]
  },
  {
   "cell_type": "code",
   "execution_count": 32,
   "metadata": {},
   "outputs": [
    {
     "name": "stdout",
     "output_type": "stream",
     "text": [
      "Введите месяц: март\n",
      "Введите число: 6\n",
      "Вывод: Рыбы\n"
     ]
    }
   ],
   "source": [
    "month = input('Введите месяц: ')\n",
    "day = int(input('Введите число: '))\n",
    "\n",
    "if (month == 'март' and 31 >= day >= 21) or (month == 'апрель' and 30 >= day <= 19):\n",
    "    print('Вывод: Овен')\n",
    "if (month == 'апрель' and 30 >= day >= 20) or (month == 'май' and 31 >= day <= 20):\n",
    "    print('Вывод: Телец')\n",
    "if (month == 'май' and 31 >= day >= 21) or (month == 'июнь' and 30 >= day <= 20):\n",
    "    print('Вывод: Близнецы')    \n",
    "if (month == 'июнь' and 30 >= day >= 21) or (month == 'июль' and 31 >= day <= 22):\n",
    "    print('Вывод: Рак')\n",
    "if (month == 'июль' and 31 >= day >= 23) or (month == 'август' and 31 >= day <= 22):\n",
    "    print('Вывод: Лев')\n",
    "if (month == 'август' and 31 >= day >= 23) or (month == 'сентябрь' and 30 >= day <= 22):\n",
    "    print('Вывод: Дева') \n",
    "if (month == 'сентябрь' and 30 >= day >= 23) or (month == 'октябрь' and 31 >= day <= 22):\n",
    "    print('Вывод: Весы')    \n",
    "if (month == 'октябрь' and 31 >= day >= 23) or (month == 'ноябрь' and 30 >= day <= 21):\n",
    "    print('Вывод: Скорпион')\n",
    "if (month == 'ноябрь' and 30 >= day >= 22) or (month == 'декабрь' and 31 >= day <= 21):\n",
    "    print('Вывод: Стрелец')\n",
    "if (month == 'декабрь' and 31 >= day >= 22) or (month == 'январь' and 31 >= day <= 19):\n",
    "    print('Вывод: Козерог')\n",
    "if (month == 'январь' and 31 >= day >= 20) or (month == 'февраль' and 29 >= day <= 18):\n",
    "    print('Вывод: Водолей')    \n",
    "if (month == 'февраль' and 29 >= day >= 19) or (month == 'март' and 31 >= day <= 20):\n",
    "    print('Вывод: Рыбы')\n",
    "    "
   ]
  },
  {
   "cell_type": "markdown",
   "metadata": {},
   "source": [
    "**Задание 4**. Нужно разработать приложение для финансового планирования.\n",
    "Приложение учитывает сколько уходит на ипотеку, \"на жизнь\" и сколько нужно отложить на пенсию.\n",
    "Пользователь вводит:\n",
    "- заработанную плату в месяц.\n",
    "- сколько процентов от ЗП уходит на ипотеку.\n",
    "- сколько процентов от ЗП уходит \"на жизнь\".\n",
    "- сколько раз приходит премия в год.\n",
    "\n",
    "Остальная часть заработанной платы откладывается на пенсию.\n",
    "\n",
    "Также пользователю приходит премия в размере зарплаты, от которой половина уходит на отпуск, а вторая половина откладывается.\n",
    "\n",
    "Программа должна учитывать сколько премий было в год.\n",
    "\n",
    "Нужно вывести сколько денег тратит пользователь на ипотеку и сколько он накопит за год.\n",
    "\n",
    "Пример:\n",
    "\n",
    "Введите заработанную плату в месяц: 100000\n",
    "\n",
    "Введите сколько процентов уходит на ипотеку: 30\n",
    "\n",
    "Введите сколько процентов уходит на жизнь: 50\n",
    "\n",
    "Введите количество премий за год: 2\n",
    "\n",
    "Вывод:\n",
    "На ипотеку было потрачено: 360000 рублей\n",
    "Было накоплено: 340000 рублей"
   ]
  },
  {
   "cell_type": "code",
   "execution_count": 41,
   "metadata": {},
   "outputs": [
    {
     "name": "stdout",
     "output_type": "stream",
     "text": [
      "Введите заработанную плату в месяц: 100000\n",
      "Введите сколько процентов уходит на ипотеку: 30\n",
      "Введите сколько процентов уходит на жизнь: 50\n",
      "Введите количество премий за год: 2\n",
      "Вывод: На ипотеку было потрачено: 360000 рублей Было накоплено: 340000 рублей\n"
     ]
    }
   ],
   "source": [
    "zp = int(input('Введите заработанную плату в месяц: '))\n",
    "pripoteka = int(input('Введите сколько процентов уходит на ипотеку: '))\n",
    "prlife = int(input('Введите сколько процентов уходит на жизнь: '))\n",
    "pcount = int(input('Введите количество премий за год: '))\n",
    "\n",
    "ipoteka = zp/100*pripoteka\n",
    "ipotekavgod = int(ipoteka*12)\n",
    "life = zp/100*prlife\n",
    "ostatokvgod = (zp - ipoteka - life)*12\n",
    "ostatok\n",
    "premianakopvgod = zp/2*pcount\n",
    "\n",
    "nakopleno = int(ostatokvgod + premianakopvgod)\n",
    "\n",
    "print('Вывод: На ипотеку было потрачено:', ipotekavgod, 'рублей Было накоплено:', nakopleno, 'рублей')"
   ]
  },
  {
   "cell_type": "code",
   "execution_count": null,
   "metadata": {},
   "outputs": [],
   "source": []
  }
 ],
 "metadata": {
  "kernelspec": {
   "display_name": "Python 3",
   "language": "python",
   "name": "python3"
  },
  "language_info": {
   "codemirror_mode": {
    "name": "ipython",
    "version": 3
   },
   "file_extension": ".py",
   "mimetype": "text/x-python",
   "name": "python",
   "nbconvert_exporter": "python",
   "pygments_lexer": "ipython3",
   "version": "3.7.4"
  }
 },
 "nbformat": 4,
 "nbformat_minor": 2
}
